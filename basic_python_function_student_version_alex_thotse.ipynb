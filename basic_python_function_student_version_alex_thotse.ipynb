{
  "cells": [
    {
      "cell_type": "markdown",
      "metadata": {
        "id": "view-in-github",
        "colab_type": "text"
      },
      "source": [
        "<a href=\"https://colab.research.google.com/github/alexthotse/EDSA/blob/main/basic_python_function_student_version_alex_thotse.ipynb\" target=\"_parent\"><img src=\"https://colab.research.google.com/assets/colab-badge.svg\" alt=\"Open In Colab\"/></a>"
      ]
    },
    {
      "cell_type": "markdown",
      "metadata": {
        "id": "0gyfPG3_kkXB"
      },
      "source": [
        "# Introduction to Python Functions\n",
        "\n",
        "## Instructions to Students\n",
        "- **Do not add or remove cells in this notebook. Do not edit or remove the `### START FUNCTION` or `### END FUNCTION` comments. Do not add any code outside of the functions you are required to edit. Doing any of this will lead to a mark of 0%!**\n",
        "- Answer the questions according to the specifications provided.\n",
        "- Use the given cell in each question to to see if your function matches the expected outputs.\n",
        "- Do not hard-code answers to the questions.\n",
        "- The use of stackoverflow, google, and other online tools are permitted. However, copying fellow student's code is not permissible and is considered a breach of the Honour code below. Doing this will result in a mark of 0%.\n",
        "- Good luck, and may the force be with you!\n",
        "\n",
        "## Honour Code\n",
        "\n",
        "I **Alex Thotse**, confirm - by submitting this document - that the solutions in this notebook are a result of my own work and that I abide by the   <a href=\"https://drive.google.com/open?id=1FXCIf425JLRx3JQi-ltSWppj8BCF3Np1\" target=\"_blank\">EDSA Student Manifesto</a>.\n",
        "\n",
        "Non-compliance with the honour code constitutes a material breach of contract.\n",
        "\n",
        "## Challenge 1\n",
        "A list of strings is passed through to the _`combine`_ function. Your task is to write the code which would return these strings combined into one sentence.\n",
        "\n",
        "For example: \n",
        "\n",
        "`>>> combine([\"Let's \", 'do ', 'this!'])`\n",
        "\n",
        "`\"Let's do this!\"` "
      ]
    },
    {
      "cell_type": "code",
      "execution_count": 75,
      "metadata": {
        "colab": {
          "base_uri": "https://localhost:8080/",
          "height": 35
        },
        "id": "sZLkGY6HkkXH",
        "outputId": "55a15686-d14c-4413-bede-763672521891"
      },
      "outputs": [
        {
          "output_type": "execute_result",
          "data": {
            "application/vnd.google.colaboratory.intrinsic+json": {
              "type": "string"
            },
            "text/plain": [
              "\"Let's do this!\\n\""
            ]
          },
          "metadata": {},
          "execution_count": 75
        }
      ],
      "source": [
        "### START FUNCTION\n",
        "words = [\"Let's \",'do ','this!','\\n']\n",
        "# words_2 = [\"I \",\"love \",\"Explore\",\"!\"]\n",
        "def combine(words):\n",
        "# def combine(words, words_2):\n",
        "\n",
        "    # HINT: use the `.join()` string method to combine your words\n",
        "    # type: `sentence = \"\".join(words)`\n",
        "    \n",
        "    sentence = \"\".join(words)\n",
        "    # sentence_2 = \"\".join(words_2)\n",
        "    return sentence\n",
        "combine(words)\n",
        "### END FUNCTION\n"
      ]
    },
    {
      "cell_type": "markdown",
      "metadata": {
        "id": "dkbsoPnWkkXK"
      },
      "source": [
        "You may upload your attempted solution to the Autograder as many times as you wish. In this sense, you could consider the Autograder not only as a marking program, but also to be a useful ally which can help check the correctness of your work - pointing out which questions may still need further effort on your part.\n",
        "\n",
        "Use the code block below to help test the correctness of the function you've developed. If the following statement returns `True`, then your solution may be working."
      ]
    },
    {
      "cell_type": "code",
      "execution_count": 77,
      "metadata": {
        "colab": {
          "base_uri": "https://localhost:8080/"
        },
        "id": "fymjH4GKkkXK",
        "outputId": "24f86f84-e56b-48c1-9e9c-9f7e87badc33"
      },
      "outputs": [
        {
          "output_type": "execute_result",
          "data": {
            "text/plain": [
              "True"
            ]
          },
          "metadata": {},
          "execution_count": 77
        }
      ],
      "source": [
        "combine(['Hello',', ','how',' ','are',' ','you','?','']) == 'Hello, how are you?'\n",
        "combine(['I ', 'can ','code',' in ','Python!','']) == 'I can code in Python!'\n",
        "# combine(['I ','love',' Explore!']) == 'I love Explore!'"
      ]
    },
    {
      "cell_type": "markdown",
      "metadata": {
        "id": "L4dVx5-ekkXL"
      },
      "source": [
        "**Expected Outputs:**\n",
        "```python\n",
        "combine(['Hello',', ','how',' ','are',' ','you','?']) == 'Hello, how are you?'\n",
        "combine(['I ','can ','code',' in ','Python!']) == 'I can code in Python!'\n",
        "```"
      ]
    },
    {
      "cell_type": "markdown",
      "metadata": {
        "id": "L4xwaXYakkXL"
      },
      "source": [
        "## Challenge 2\n",
        "In this task, we seek to perform the opposite operation from Challenge 1. A string is passed through to the _`separate`_ function. Your task is to write the code which will split the sentence into words, along each space character (\" \"), and return a list of strings.\n",
        "\n",
        "For example: \n",
        "\n",
        "`>>> separate(\"Let's do this!\")`\n",
        "\n",
        "`[\"Let's\", 'do', 'this!']` "
      ]
    },
    {
      "cell_type": "code",
      "execution_count": 73,
      "metadata": {
        "colab": {
          "base_uri": "https://localhost:8080/"
        },
        "id": "UbzmFsijkkXM",
        "outputId": "7370dd9e-43d2-4a2a-f891-2d3204cdb770"
      },
      "outputs": [
        {
          "output_type": "execute_result",
          "data": {
            "text/plain": [
              "[\"Let's\", 'do', 'this!']"
            ]
          },
          "metadata": {},
          "execution_count": 73
        }
      ],
      "source": [
        "### START FUNCTION\n",
        "sentence = \"Let's do this!\\n\"\n",
        "def separate(sentence):\n",
        "    # HINT: use the `.split()` string method to combine your words.\n",
        "    list_of_strings = sentence.replace(\"\\n\",\" \").split()\n",
        "    # Don't forget to return your results\n",
        "    return list_of_strings\n",
        "separate(sentence)\n",
        "### END FUNCTION"
      ]
    },
    {
      "cell_type": "code",
      "execution_count": 74,
      "metadata": {
        "colab": {
          "base_uri": "https://localhost:8080/"
        },
        "id": "1pyRJYMskkXN",
        "outputId": "62d12dda-40da-4a35-e813-17d775d0e6d4"
      },
      "outputs": [
        {
          "output_type": "execute_result",
          "data": {
            "text/plain": [
              "True"
            ]
          },
          "metadata": {},
          "execution_count": 74
        }
      ],
      "source": [
        "separate('Hello, how are you?') == ['Hello,', 'how', 'are', 'you?']\n",
        "separate('I can code in Python!') == ['I','can','code','in','Python!']\n",
        "# separate('I love Explore Data Science Academy!') == ['I', 'love','Explore','Data','Science','Academy!']"
      ]
    },
    {
      "cell_type": "markdown",
      "metadata": {
        "id": "0OCce_2MkkXO"
      },
      "source": [
        "**Expected Outputs:**\n",
        "```python\n",
        "separate('Hello, how are you?') == ['Hello,', 'how', 'are', 'you?']\n",
        "separate('I can code in Python!') == ['I', 'can', 'code', 'in', 'Python!']\n",
        "```"
      ]
    },
    {
      "cell_type": "markdown",
      "metadata": {
        "id": "PTY601YtkkXO"
      },
      "source": [
        "## Challenge 3\n",
        "\n",
        "Similar to the previous task, write a function called _`edit`_ which takes a string sentence as input, capitalises each letter of the string, and splits this sentence into words along each space character (\" \"). The resulting strings need to be returned as a list, where each string must be in **UPPERCASE** letters.  \n",
        "\n",
        "For example: \n",
        "\n",
        "`>>> edit(\"Let's do this!\")`\n",
        "\n",
        "`[\"LET'S\", 'DO', 'THIS!']` "
      ]
    },
    {
      "cell_type": "code",
      "execution_count": 78,
      "metadata": {
        "colab": {
          "base_uri": "https://localhost:8080/"
        },
        "id": "1P9t291lkkXP",
        "outputId": "294b5775-3d75-4088-86e5-4c30bb6cde6f"
      },
      "outputs": [
        {
          "output_type": "execute_result",
          "data": {
            "text/plain": [
              "[\"LET'S\", 'DO', 'THIS!']"
            ]
          },
          "metadata": {},
          "execution_count": 78
        }
      ],
      "source": [
        "### START FUNCTION\n",
        "sentence = \"Let's do this!\"\n",
        "def edit(sentence):\n",
        "    # HINT: use the `.upper()` and `.split()` methods \n",
        "    \n",
        "    motivation = sentence.upper().split()\n",
        "    return motivation\n",
        "edit(sentence)\n",
        "### END FUNCTION"
      ]
    },
    {
      "cell_type": "code",
      "execution_count": 79,
      "metadata": {
        "colab": {
          "base_uri": "https://localhost:8080/"
        },
        "id": "tJlbg1_fkkXQ",
        "outputId": "1f4ed5fb-847e-49ab-d84a-9b1040088f7d"
      },
      "outputs": [
        {
          "output_type": "execute_result",
          "data": {
            "text/plain": [
              "True"
            ]
          },
          "metadata": {},
          "execution_count": 79
        }
      ],
      "source": [
        "edit('Hello, how are you?') == ['HELLO,', 'HOW', 'ARE', 'YOU?']\n",
        "edit('I can code in Python!') == ['I', 'CAN', 'CODE','IN','PYTHON!']\n",
        "# edit('I love Explore Data Science Academy!') == ['I','LOVE','EXPLORE','DATA','SCIENCE','ACADEMY!']"
      ]
    },
    {
      "cell_type": "markdown",
      "metadata": {
        "id": "aGzjgcUUkkXQ"
      },
      "source": [
        "**Expected Outputs:**\n",
        "```python\n",
        "edit('Hello, how are you?') == ['HELLO,', 'HOW', 'ARE', 'YOU?']\n",
        "edit('I can code in Python!') == ['I', 'CAN', 'CODE', 'IN', 'PYTHON!']\n",
        "```"
      ]
    },
    {
      "cell_type": "code",
      "execution_count": 27,
      "metadata": {
        "id": "kyKmuFZ_kkXR"
      },
      "outputs": [],
      "source": [
        ""
      ]
    }
  ],
  "metadata": {
    "kernelspec": {
      "display_name": "Python 3",
      "language": "python",
      "name": "python3"
    },
    "language_info": {
      "codemirror_mode": {
        "name": "ipython",
        "version": 3
      },
      "file_extension": ".py",
      "mimetype": "text/x-python",
      "name": "python",
      "nbconvert_exporter": "python",
      "pygments_lexer": "ipython3",
      "version": "3.8.8"
    },
    "colab": {
      "name": "basic_python_function_student_version_alex_thotse.ipynb",
      "provenance": [],
      "collapsed_sections": [],
      "include_colab_link": true
    }
  },
  "nbformat": 4,
  "nbformat_minor": 0
}