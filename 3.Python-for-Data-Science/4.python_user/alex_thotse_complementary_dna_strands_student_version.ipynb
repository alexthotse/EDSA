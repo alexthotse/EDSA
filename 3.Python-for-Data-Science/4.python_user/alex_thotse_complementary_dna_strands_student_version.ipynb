{
 "cells": [
  {
   "cell_type": "markdown",
   "metadata": {},
   "source": [
    "# Complementary DNA Strands"
   ]
  },
  {
   "cell_type": "markdown",
   "metadata": {},
   "source": [
    "## Instructions to Students\n",
    "- **Do not add or remove cells in this notebook. Do not edit or remove the `### START FUNCTION` or `### END FUNCTION` comments. Do not add any code outside of the functions you are required to edit. Doing any of this will lead to a mark of 0%!**\n",
    "- Answer the questions according to the specifications provided.\n",
    "- Use the given cell in each question to to see if your function matches the expected outputs.\n",
    "- Do not hard-code answers to the questions.\n",
    "- The use of stackoverflow, google, and other online tools are permitted. However, copying fellow student's code is not permissible and is considered a breach of the Honour code below. Doing this will result in a mark of 0%.\n",
    "- Good luck, and may the force be with you!"
   ]
  },
  {
   "cell_type": "markdown",
   "metadata": {},
   "source": [
    "## Honour code"
   ]
  },
  {
   "cell_type": "markdown",
   "metadata": {},
   "source": [
    "I **Alex Thotse**, confirm - by submitting this document - that the solutions in this notebook are a result of my own work and that I abide by the EDSA honour code (https://drive.google.com/file/d/1QDCjGZJ8-FmJE3bZdIQNwnJyQKPhHZBn/view?usp=sharing).  \n",
    "\n",
    "Non-compliance with the honour code constitutes a material breach of contract."
   ]
  },
  {
   "cell_type": "markdown",
   "metadata": {},
   "source": [
    "## Challenge \n",
    "\n",
    "In coding challenge 2, you were introduced to RNA synthesis. DNA differs from RNA because RNA is one strand compared to DNA which is double stranded.It also differs in that instead of the U nucleotide, it contains a T. Below is an example of the different structures taken from: https://byjus.com/biology/difference-between-dna-and-rna/:\n",
    "\n",
    "The same lab was extremely impressed with the first code and now wants a new one. They want to find the complementary strands of DNA. Here is the low-down:\n",
    "\n",
    "A links with T and vice versa\n",
    "C links with G and vice versa\n",
    "An example of the complementary strand for the code ATCGGAATGCC is TAGCCTTACGG\n",
    "\n",
    "You are tasked to create a function dna_complementary which finds the complementary strand for a given DNA strand based on the above criteria. The function must return a string of the code\n",
    "\n",
    "This kind of code can be really helpful as a product. Imagine trying to get DNA strands for thousands of sequences which are thousands of nucleotides long. This is the power of python and coding!\n",
    "\n",
    "**Hint**: We didn't teach you dictionaries for nothing"
   ]
  },
  {
   "cell_type": "code",
   "execution_count": 1,
   "metadata": {},
   "outputs": [
    {
     "data": {
      "text/html": [
       "<img src=\"https://github.com/Explore-AI/Pictures/blob/master/Difference-Between-DNA-and-RNA.png?raw=true\"/>"
      ],
      "text/plain": [
       "<IPython.core.display.Image object>"
      ]
     },
     "execution_count": 1,
     "metadata": {},
     "output_type": "execute_result"
    }
   ],
   "source": [
    "from IPython.display import Image\n",
    "from IPython.core.display import HTML \n",
    "Image(url = 'https://github.com/Explore-AI/Pictures/blob/master/Difference-Between-DNA-and-RNA.png?raw=true')"
   ]
  },
  {
   "cell_type": "code",
   "execution_count": 28,
   "metadata": {},
   "outputs": [],
   "source": [
    "### START FUNCTION\n",
    "def dna_complementary(dna):\n",
    "    # your code here\n",
    "    convert_dna_type = list(dna)\n",
    "    new_dna = []\n",
    "    print(convert_dna_type)\n",
    "    for item in convert_dna_type:\n",
    "        if item == 'T':\n",
    "            one = item.replace(\"T\",\"A\")\n",
    "            new_dna.append(one)\n",
    "        elif item == 'A':\n",
    "            one = item.replace(\"A\",\"T\")\n",
    "            new_dna.append(one)\n",
    "        elif item == 'C':\n",
    "            one = item.replace(\"C\",\"G\")\n",
    "            new_dna.append(one)\n",
    "        elif item == 'G':\n",
    "            one = item.replace(\"G\",\"C\")\n",
    "            new_dna.append(one)\n",
    "    print(new_dna)\n",
    "    convert_dna = ''.joined(new_dna)\n",
    "    return(convert_dna)\n",
    "### END FUNCTION"
   ]
  },
  {
   "cell_type": "code",
   "execution_count": 30,
   "metadata": {},
   "outputs": [
    {
     "name": "stdout",
     "output_type": "stream",
     "text": [
      "['A', 'T', 'C', 'G', 'G', 'A', 'A', 'T', 'G', 'C', 'C']\n"
     ]
    },
    {
     "ename": "AttributeError",
     "evalue": "'str' object has no attribute 'joined'",
     "output_type": "error",
     "traceback": [
      "\u001b[0;31m---------------------------------------------------------------------------\u001b[0m",
      "\u001b[0;31mAttributeError\u001b[0m                            Traceback (most recent call last)",
      "\u001b[0;32m/tmp/ipykernel_6151/549304594.py\u001b[0m in \u001b[0;36m<module>\u001b[0;34m\u001b[0m\n\u001b[1;32m      1\u001b[0m \u001b[0;31m#dna_complementary('ATCTTATAATTACCGAGTCGATCGG')\u001b[0m\u001b[0;34m\u001b[0m\u001b[0;34m\u001b[0m\u001b[0;34m\u001b[0m\u001b[0m\n\u001b[0;32m----> 2\u001b[0;31m \u001b[0mdna_complementary\u001b[0m\u001b[0;34m(\u001b[0m\u001b[0;34m'ATCGGAATGCC'\u001b[0m\u001b[0;34m)\u001b[0m \u001b[0;34m==\u001b[0m \u001b[0;34m'TAGCCTTACGG'\u001b[0m\u001b[0;34m\u001b[0m\u001b[0;34m\u001b[0m\u001b[0m\n\u001b[0m\u001b[1;32m      3\u001b[0m \u001b[0;31m#dna_complementary('TCCCGGATCGCATACGAT') == 'AGGGCCTAGCGTATGCTA'\u001b[0m\u001b[0;34m\u001b[0m\u001b[0;34m\u001b[0m\u001b[0;34m\u001b[0m\u001b[0m\n\u001b[1;32m      4\u001b[0m \u001b[0;31m#dna_complementary('ATCTTATAATTACCGAGTCGATCGG') == 'TAGAATATTAATGGCTCAGCTAGCC'\u001b[0m\u001b[0;34m\u001b[0m\u001b[0;34m\u001b[0m\u001b[0;34m\u001b[0m\u001b[0m\n\u001b[1;32m      5\u001b[0m \u001b[0;31m#dna_complementary('ATCGGACTACGA') == 'TAGCCTGATGCT'\u001b[0m\u001b[0;34m\u001b[0m\u001b[0;34m\u001b[0m\u001b[0;34m\u001b[0m\u001b[0m\n",
      "\u001b[0;32m/tmp/ipykernel_6151/3435512963.py\u001b[0m in \u001b[0;36mdna_complementary\u001b[0;34m(dna)\u001b[0m\n\u001b[1;32m     19\u001b[0m             \u001b[0mnew_dna\u001b[0m\u001b[0;34m.\u001b[0m\u001b[0mappend\u001b[0m\u001b[0;34m(\u001b[0m\u001b[0mone\u001b[0m\u001b[0;34m)\u001b[0m\u001b[0;34m\u001b[0m\u001b[0;34m\u001b[0m\u001b[0m\n\u001b[1;32m     20\u001b[0m     \u001b[0;31m# print(new_dna)\u001b[0m\u001b[0;34m\u001b[0m\u001b[0;34m\u001b[0m\u001b[0;34m\u001b[0m\u001b[0m\n\u001b[0;32m---> 21\u001b[0;31m     \u001b[0mconvert_dna\u001b[0m \u001b[0;34m=\u001b[0m \u001b[0;34m''\u001b[0m\u001b[0;34m.\u001b[0m\u001b[0mjoined\u001b[0m\u001b[0;34m(\u001b[0m\u001b[0mnew_dna\u001b[0m\u001b[0;34m)\u001b[0m\u001b[0;34m\u001b[0m\u001b[0;34m\u001b[0m\u001b[0m\n\u001b[0m\u001b[1;32m     22\u001b[0m     \u001b[0;32mreturn\u001b[0m\u001b[0;34m(\u001b[0m\u001b[0mconvert_dna\u001b[0m\u001b[0;34m)\u001b[0m\u001b[0;34m\u001b[0m\u001b[0;34m\u001b[0m\u001b[0m\n\u001b[1;32m     23\u001b[0m \u001b[0;31m### END FUNCTION\u001b[0m\u001b[0;34m\u001b[0m\u001b[0;34m\u001b[0m\u001b[0;34m\u001b[0m\u001b[0m\n",
      "\u001b[0;31mAttributeError\u001b[0m: 'str' object has no attribute 'joined'"
     ]
    }
   ],
   "source": [
    "#dna_complementary('ATCTTATAATTACCGAGTCGATCGG')\n",
    "dna_complementary('ATCGGAATGCC') == 'TAGCCTTACGG'\n",
    "#dna_complementary('TCCCGGATCGCATACGAT') == 'AGGGCCTAGCGTATGCTA'\n",
    "#dna_complementary('ATCTTATAATTACCGAGTCGATCGG') == 'TAGAATATTAATGGCTCAGCTAGCC'\n",
    "#dna_complementary('ATCGGACTACGA') == 'TAGCCTGATGCT'"
   ]
  },
  {
   "cell_type": "markdown",
   "metadata": {},
   "source": [
    "_**Expected Outputs**_ \n",
    "```python\n",
    "dna_complementary('ATCGGAATGCC') == 'TAGCCTTACGG'\n",
    "dna_complementary('TCCCGGATCGCATACGAT') == 'AGGGCCTAGCGTATGCTA'\n",
    "dna_complementary('ATCTTATAATTACCGAGTCGATCGG') == 'TAGAATATTAATGGCTCAGCTAGCC'\n",
    "dna_complementary('ATCGGACTACGA') == 'TAGCCTGATGCT'\n",
    "```"
   ]
  },
  {
   "cell_type": "markdown",
   "metadata": {},
   "source": [
    "## References"
   ]
  },
  {
   "cell_type": "markdown",
   "metadata": {},
   "source": [
    "This tutorial was created using the wonderful [Google Python Developers](https://developers.google.com/edu/python/) course, and has been modified under the [Creative Common's licence 2.5](https://creativecommons.org/licenses/by/2.5/) \n",
    "\n",
    "Copyright 2010 Google Inc. Licensed under the Apache License, Version 2.0 http://www.apache.org/licenses/LICENSE-2.0\n",
    "\n",
    "Google's Python Class http://code.google.com/edu/languages/google-python-class/"
   ]
  }
 ],
 "metadata": {
  "kernelspec": {
   "display_name": "Python 3",
   "language": "python",
   "name": "python3"
  },
  "language_info": {
   "codemirror_mode": {
    "name": "ipython",
    "version": 3
   },
   "file_extension": ".py",
   "mimetype": "text/x-python",
   "name": "python",
   "nbconvert_exporter": "python",
   "pygments_lexer": "ipython3",
   "version": "3.8.12"
  }
 },
 "nbformat": 4,
 "nbformat_minor": 4
}
